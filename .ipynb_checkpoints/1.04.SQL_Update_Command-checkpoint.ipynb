{
 "cells": [
  {
   "cell_type": "code",
   "execution_count": 1,
   "id": "49a154f2-b481-415f-8b0d-46e19e091e4e",
   "metadata": {},
   "outputs": [],
   "source": [
    "import sqlite3\n",
    "import pandas as pd\n",
    "\n",
    "# Load the CSV into a DataFrame\n",
    "df = pd.read_csv('used_car_price.csv')\n",
    "\n",
    "#We will sqlite3 library and create a connection\n",
    "conn = sqlite3.connect(\"sql_db.db\")\n",
    "\n",
    "# Write the DataFrame to the SQLite database as a table\n",
    "df.to_sql('cars', conn, index=False, if_exists='replace')\n",
    "\n",
    "#Load the sql module to ipython\n",
    "%load_ext sql\n",
    "\n",
    "#Load local dataset\n",
    "%sql sqlite:///sql_db.db"
   ]
  },
  {
   "cell_type": "markdown",
   "id": "a4ddd1d3-4ea4-45f4-a64f-aa4bc50f3498",
   "metadata": {},
   "source": [
    "## SQL NULL Values\n",
    "- A field with a NULL value is a field with no value.\n",
    "- IS NULL Syntax: select col1 from my_table where col1 is null;\n",
    "- IS NOT NULL Syntax: select col1 from my_table where col1 is not null;"
   ]
  },
  {
   "cell_type": "code",
   "execution_count": 5,
   "id": "e2d82881-a83e-4526-bf9c-b4d84ede6161",
   "metadata": {},
   "outputs": [
    {
     "name": "stdout",
     "output_type": "stream",
     "text": [
      " * sqlite:///sql_db.db\n",
      "Done.\n"
     ]
    },
    {
     "data": {
      "text/html": [
       "<table>\n",
       "    <thead>\n",
       "        <tr>\n",
       "            <th>brand</th>\n",
       "            <th>model</th>\n",
       "            <th>model_year</th>\n",
       "        </tr>\n",
       "    </thead>\n",
       "    <tbody>\n",
       "        <tr>\n",
       "            <td>RAM</td>\n",
       "            <td>2500 Big Horn</td>\n",
       "            <td>2012</td>\n",
       "        </tr>\n",
       "        <tr>\n",
       "            <td>Jeep</td>\n",
       "            <td>Gladiator Sport</td>\n",
       "            <td>2021</td>\n",
       "        </tr>\n",
       "        <tr>\n",
       "            <td>Acura</td>\n",
       "            <td>RDX w/A-Spec Package</td>\n",
       "            <td>2023</td>\n",
       "        </tr>\n",
       "    </tbody>\n",
       "</table>"
      ],
      "text/plain": [
       "[('RAM', '2500 Big Horn', 2012),\n",
       " ('Jeep', 'Gladiator Sport', 2021),\n",
       " ('Acura', 'RDX w/A-Spec Package', 2023)]"
      ]
     },
     "execution_count": 5,
     "metadata": {},
     "output_type": "execute_result"
    }
   ],
   "source": [
    "%%sql\n",
    "\n",
    "select brand, model, model_year from cars where accident is null limit 3;"
   ]
  },
  {
   "cell_type": "markdown",
   "id": "b76f7138-dfa5-40e3-85cd-7d6915e7e844",
   "metadata": {},
   "source": [
    "## SQL Update Statement\n",
    "- The `update` statement is used to modify the existing records in a table.\n",
    "- Syntax: update table_name set col1=value1, col2=value2 where condition;"
   ]
  },
  {
   "cell_type": "code",
   "execution_count": 11,
   "id": "1dce2afa-fc9f-40e4-b72f-c394794d3c97",
   "metadata": {},
   "outputs": [
    {
     "name": "stdout",
     "output_type": "stream",
     "text": [
      " * sqlite:///sql_db.db\n",
      "Done.\n"
     ]
    },
    {
     "data": {
      "text/html": [
       "<table>\n",
       "    <thead>\n",
       "        <tr>\n",
       "            <th>id</th>\n",
       "            <th>brand</th>\n",
       "            <th>model</th>\n",
       "            <th>model_year</th>\n",
       "            <th>milage</th>\n",
       "            <th>fuel_type</th>\n",
       "            <th>engine</th>\n",
       "            <th>transmission</th>\n",
       "            <th>ext_col</th>\n",
       "            <th>int_col</th>\n",
       "            <th>accident</th>\n",
       "            <th>clean_title</th>\n",
       "            <th>price</th>\n",
       "        </tr>\n",
       "    </thead>\n",
       "    <tbody>\n",
       "        <tr>\n",
       "            <td>0</td>\n",
       "            <td>Tavlav</td>\n",
       "            <td>Lucky24</td>\n",
       "            <td>2007</td>\n",
       "            <td>213000</td>\n",
       "            <td>Gasoline</td>\n",
       "            <td>172.0HP 1.6L 4 Cylinder Engine Gasoline Fuel</td>\n",
       "            <td>A/T</td>\n",
       "            <td>Yellow</td>\n",
       "            <td>Gray</td>\n",
       "            <td>None reported</td>\n",
       "            <td>Yes</td>\n",
       "            <td>4200</td>\n",
       "        </tr>\n",
       "    </tbody>\n",
       "</table>"
      ],
      "text/plain": [
       "[(0, 'Tavlav', 'Lucky24', 2007, 213000, 'Gasoline', '172.0HP 1.6L 4 Cylinder Engine Gasoline Fuel', 'A/T', 'Yellow', 'Gray', 'None reported', 'Yes', 4200)]"
      ]
     },
     "execution_count": 11,
     "metadata": {},
     "output_type": "execute_result"
    }
   ],
   "source": [
    "%%sql\n",
    "\n",
    "select * from cars limit 1;"
   ]
  },
  {
   "cell_type": "code",
   "execution_count": 10,
   "id": "890821f0-ea9a-481c-8a8e-c97ddfd42069",
   "metadata": {},
   "outputs": [
    {
     "name": "stdout",
     "output_type": "stream",
     "text": [
      " * sqlite:///sql_db.db\n",
      "1 rows affected.\n"
     ]
    },
    {
     "data": {
      "text/plain": [
       "[]"
      ]
     },
     "execution_count": 10,
     "metadata": {},
     "output_type": "execute_result"
    }
   ],
   "source": [
    "%%sql\n",
    "update cars \n",
    "set brand=\"Tavlav\", model = \"Lucky24\" \n",
    "where id = 0;"
   ]
  },
  {
   "cell_type": "code",
   "execution_count": 12,
   "id": "ce362454-fa19-498d-81af-6178287572d8",
   "metadata": {},
   "outputs": [
    {
     "name": "stdout",
     "output_type": "stream",
     "text": [
      " * sqlite:///sql_db.db\n",
      "969 rows affected.\n"
     ]
    },
    {
     "data": {
      "text/plain": [
       "[]"
      ]
     },
     "execution_count": 12,
     "metadata": {},
     "output_type": "execute_result"
    }
   ],
   "source": [
    "%%sql\n",
    "-- update multiple data\n",
    "\n",
    "update cars set brand='Tavlav' where brand=\"Genesis\";"
   ]
  },
  {
   "cell_type": "markdown",
   "id": "63acea3b-3e93-4572-8207-d3c0003a1aa6",
   "metadata": {},
   "source": [
    "## SQL Delete Statement\n",
    "- The `DELETE` statement is used to delete existing records in a table.\n",
    "- Syntax: `delete from table_name where condition;`"
   ]
  },
  {
   "cell_type": "code",
   "execution_count": 14,
   "id": "75f9b48b-94b9-4e63-84e7-b7acd0a114ad",
   "metadata": {},
   "outputs": [
    {
     "name": "stdout",
     "output_type": "stream",
     "text": [
      " * sqlite:///sql_db.db\n",
      "12 rows affected.\n"
     ]
    },
    {
     "data": {
      "text/plain": [
       "[]"
      ]
     },
     "execution_count": 14,
     "metadata": {},
     "output_type": "execute_result"
    }
   ],
   "source": [
    "%%sql\n",
    "\n",
    "delete from cars where model_year < 1990;"
   ]
  },
  {
   "cell_type": "markdown",
   "id": "c3927724-c5a4-450f-87cb-b74d712eb508",
   "metadata": {},
   "source": [
    "## LIMIT Clause\n",
    "- Show the limited number of equivalent example."
   ]
  },
  {
   "cell_type": "code",
   "execution_count": 17,
   "id": "6a882ab8-5cd5-44f1-a346-58ff6d366e36",
   "metadata": {},
   "outputs": [
    {
     "name": "stdout",
     "output_type": "stream",
     "text": [
      " * sqlite:///sql_db.db\n",
      "Done.\n"
     ]
    },
    {
     "data": {
      "text/html": [
       "<table>\n",
       "    <thead>\n",
       "        <tr>\n",
       "            <th>id</th>\n",
       "            <th>brand</th>\n",
       "            <th>model</th>\n",
       "            <th>model_year</th>\n",
       "            <th>milage</th>\n",
       "            <th>fuel_type</th>\n",
       "            <th>engine</th>\n",
       "            <th>transmission</th>\n",
       "            <th>ext_col</th>\n",
       "            <th>int_col</th>\n",
       "            <th>accident</th>\n",
       "            <th>clean_title</th>\n",
       "            <th>price</th>\n",
       "        </tr>\n",
       "    </thead>\n",
       "    <tbody>\n",
       "        <tr>\n",
       "            <td>0</td>\n",
       "            <td>Tavlav</td>\n",
       "            <td>Lucky24</td>\n",
       "            <td>2007</td>\n",
       "            <td>213000</td>\n",
       "            <td>Gasoline</td>\n",
       "            <td>172.0HP 1.6L 4 Cylinder Engine Gasoline Fuel</td>\n",
       "            <td>A/T</td>\n",
       "            <td>Yellow</td>\n",
       "            <td>Gray</td>\n",
       "            <td>None reported</td>\n",
       "            <td>Yes</td>\n",
       "            <td>4200</td>\n",
       "        </tr>\n",
       "        <tr>\n",
       "            <td>1</td>\n",
       "            <td>Lincoln</td>\n",
       "            <td>LS V8</td>\n",
       "            <td>2002</td>\n",
       "            <td>143250</td>\n",
       "            <td>Gasoline</td>\n",
       "            <td>252.0HP 3.9L 8 Cylinder Engine Gasoline Fuel</td>\n",
       "            <td>A/T</td>\n",
       "            <td>Silver</td>\n",
       "            <td>Beige</td>\n",
       "            <td>At least 1 accident or damage reported</td>\n",
       "            <td>Yes</td>\n",
       "            <td>4999</td>\n",
       "        </tr>\n",
       "        <tr>\n",
       "            <td>2</td>\n",
       "            <td>Chevrolet</td>\n",
       "            <td>Silverado 2500 LT</td>\n",
       "            <td>2002</td>\n",
       "            <td>136731</td>\n",
       "            <td>E85 Flex Fuel</td>\n",
       "            <td>320.0HP 5.3L 8 Cylinder Engine Flex Fuel Capability</td>\n",
       "            <td>A/T</td>\n",
       "            <td>Blue</td>\n",
       "            <td>Gray</td>\n",
       "            <td>None reported</td>\n",
       "            <td>Yes</td>\n",
       "            <td>13900</td>\n",
       "        </tr>\n",
       "    </tbody>\n",
       "</table>"
      ],
      "text/plain": [
       "[(0, 'Tavlav', 'Lucky24', 2007, 213000, 'Gasoline', '172.0HP 1.6L 4 Cylinder Engine Gasoline Fuel', 'A/T', 'Yellow', 'Gray', 'None reported', 'Yes', 4200),\n",
       " (1, 'Lincoln', 'LS V8', 2002, 143250, 'Gasoline', '252.0HP 3.9L 8 Cylinder Engine Gasoline Fuel', 'A/T', 'Silver', 'Beige', 'At least 1 accident or damage reported', 'Yes', 4999),\n",
       " (2, 'Chevrolet', 'Silverado 2500 LT', 2002, 136731, 'E85 Flex Fuel', '320.0HP 5.3L 8 Cylinder Engine Flex Fuel Capability', 'A/T', 'Blue', 'Gray', 'None reported', 'Yes', 13900)]"
      ]
     },
     "execution_count": 17,
     "metadata": {},
     "output_type": "execute_result"
    }
   ],
   "source": [
    "%%sql\n",
    "-- SELECT TOP clause is used to specify the number of records to return.\n",
    "\n",
    "select * from cars limit 3;"
   ]
  },
  {
   "cell_type": "code",
   "execution_count": 18,
   "id": "c45ae141-b246-4d82-86c4-790a35a06b08",
   "metadata": {},
   "outputs": [
    {
     "name": "stdout",
     "output_type": "stream",
     "text": [
      " * sqlite:///sql_db.db\n",
      "Done.\n"
     ]
    },
    {
     "data": {
      "text/html": [
       "<table>\n",
       "    <thead>\n",
       "        <tr>\n",
       "            <th>id</th>\n",
       "            <th>brand</th>\n",
       "            <th>model</th>\n",
       "            <th>model_year</th>\n",
       "            <th>milage</th>\n",
       "            <th>fuel_type</th>\n",
       "            <th>engine</th>\n",
       "            <th>transmission</th>\n",
       "            <th>ext_col</th>\n",
       "            <th>int_col</th>\n",
       "            <th>accident</th>\n",
       "            <th>clean_title</th>\n",
       "            <th>price</th>\n",
       "        </tr>\n",
       "    </thead>\n",
       "    <tbody>\n",
       "        <tr>\n",
       "            <td>220</td>\n",
       "            <td>Ford</td>\n",
       "            <td>F-150 XLT</td>\n",
       "            <td>2021</td>\n",
       "            <td>26315</td>\n",
       "            <td>Gasoline</td>\n",
       "            <td>3.5L V6 24V PDI DOHC Twin Turbo</td>\n",
       "            <td>10-Speed Automatic</td>\n",
       "            <td>Agate Black Metallic</td>\n",
       "            <td>Black</td>\n",
       "            <td>None reported</td>\n",
       "            <td>Yes</td>\n",
       "            <td>2954083</td>\n",
       "        </tr>\n",
       "        <tr>\n",
       "            <td>1880</td>\n",
       "            <td>Chrysler</td>\n",
       "            <td>300C Base</td>\n",
       "            <td>2003</td>\n",
       "            <td>55900</td>\n",
       "            <td>Gasoline</td>\n",
       "            <td>340.0HP 5.7L 8 Cylinder Engine Gasoline Fuel</td>\n",
       "            <td>5-Speed A/T</td>\n",
       "            <td>Beige</td>\n",
       "            <td>Beige</td>\n",
       "            <td>None reported</td>\n",
       "            <td>Yes</td>\n",
       "            <td>2954083</td>\n",
       "        </tr>\n",
       "        <tr>\n",
       "            <td>13838</td>\n",
       "            <td>Toyota</td>\n",
       "            <td>Highlander SE</td>\n",
       "            <td>2014</td>\n",
       "            <td>85000</td>\n",
       "            <td>Gasoline</td>\n",
       "            <td>3.5L V6 24V PDI DOHC</td>\n",
       "            <td>8-Speed Automatic</td>\n",
       "            <td>Green</td>\n",
       "            <td>Black</td>\n",
       "            <td>None reported</td>\n",
       "            <td>Yes</td>\n",
       "            <td>2954083</td>\n",
       "        </tr>\n",
       "    </tbody>\n",
       "</table>"
      ],
      "text/plain": [
       "[(220, 'Ford', 'F-150 XLT', 2021, 26315, 'Gasoline', '3.5L V6 24V PDI DOHC Twin Turbo', '10-Speed Automatic', 'Agate Black Metallic', 'Black', 'None reported', 'Yes', 2954083),\n",
       " (1880, 'Chrysler', '300C Base', 2003, 55900, 'Gasoline', '340.0HP 5.7L 8 Cylinder Engine Gasoline Fuel', '5-Speed A/T', 'Beige', 'Beige', 'None reported', 'Yes', 2954083),\n",
       " (13838, 'Toyota', 'Highlander SE', 2014, 85000, 'Gasoline', '3.5L V6 24V PDI DOHC', '8-Speed Automatic', 'Green', 'Black', 'None reported', 'Yes', 2954083)]"
      ]
     },
     "execution_count": 18,
     "metadata": {},
     "output_type": "execute_result"
    }
   ],
   "source": [
    "%%sql\n",
    "-- limit using order by\n",
    "\n",
    "select * from cars order by price desc limit 3;"
   ]
  }
 ],
 "metadata": {
  "kernelspec": {
   "display_name": "Python 3 (ipykernel)",
   "language": "python",
   "name": "python3"
  },
  "language_info": {
   "codemirror_mode": {
    "name": "ipython",
    "version": 3
   },
   "file_extension": ".py",
   "mimetype": "text/x-python",
   "name": "python",
   "nbconvert_exporter": "python",
   "pygments_lexer": "ipython3",
   "version": "3.12.6"
  },
  "widgets": {
   "application/vnd.jupyter.widget-state+json": {
    "state": {},
    "version_major": 2,
    "version_minor": 0
   }
  }
 },
 "nbformat": 4,
 "nbformat_minor": 5
}
