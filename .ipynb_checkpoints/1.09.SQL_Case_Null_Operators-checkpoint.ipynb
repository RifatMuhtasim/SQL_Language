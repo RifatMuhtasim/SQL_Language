{
 "cells": [
  {
   "cell_type": "code",
   "execution_count": 1,
   "id": "9ff77e5a-dc17-484f-907c-1a14e6fc0896",
   "metadata": {},
   "outputs": [],
   "source": [
    "import sqlite3\n",
    "import pandas as pd\n",
    "\n",
    "# Load the CSV into a DataFrame\n",
    "df = pd.read_csv('used_car_price.csv')\n",
    "\n",
    "#We will sqlite3 library and create a connection\n",
    "conn = sqlite3.connect(\"sql_db.db\")\n",
    "\n",
    "# Write the DataFrame to the SQLite database as a table\n",
    "df.to_sql('cars', conn, index=False, if_exists='replace')\n",
    "\n",
    "#Load the sql module to ipython\n",
    "%load_ext sql\n",
    "\n",
    "#Load local dataset\n",
    "%sql sqlite:///sql_db.db"
   ]
  },
  {
   "cell_type": "markdown",
   "id": "60358754-13fc-49e4-b46e-2f088d02e05e",
   "metadata": {},
   "source": [
    "# SQL Case Expression\n",
    "- The CASE expression goes through conditions and returns a value when the first condition is met (like an if-then-else statement). So, once a condition is true, it will stop reading and return the result. If no conditions are true, it returns the value in the ELSE clause."
   ]
  },
  {
   "cell_type": "markdown",
   "id": "fbf2bc2c-073f-48b9-a1b6-2e79d475ec9f",
   "metadata": {},
   "source": [
    "- Case Syntax:\n",
    "```\n",
    "CASE\n",
    "    WHEN condition1 THEN result1\n",
    "    WHEN condition2 THEN result2\n",
    "    WHEN conditionN THEN resultN\n",
    "    ELSE result\n",
    "END;\n",
    "```"
   ]
  },
  {
   "cell_type": "code",
   "execution_count": 2,
   "id": "127a8564-3dda-4baa-8072-4a984c3265c9",
   "metadata": {},
   "outputs": [
    {
     "name": "stdout",
     "output_type": "stream",
     "text": [
      " * sqlite:///sql_db.db\n",
      "Done.\n"
     ]
    },
    {
     "data": {
      "text/html": [
       "<table>\n",
       "    <thead>\n",
       "        <tr>\n",
       "            <th>brand</th>\n",
       "            <th>model</th>\n",
       "            <th>PriceInfo</th>\n",
       "        </tr>\n",
       "    </thead>\n",
       "    <tbody>\n",
       "        <tr>\n",
       "            <td>MINI</td>\n",
       "            <td>Cooper S Base</td>\n",
       "            <td>This car is old</td>\n",
       "        </tr>\n",
       "        <tr>\n",
       "            <td>Lincoln</td>\n",
       "            <td>LS V8</td>\n",
       "            <td>This car is old</td>\n",
       "        </tr>\n",
       "        <tr>\n",
       "            <td>Chevrolet</td>\n",
       "            <td>Silverado 2500 LT</td>\n",
       "            <td>This car is old</td>\n",
       "        </tr>\n",
       "        <tr>\n",
       "            <td>Genesis</td>\n",
       "            <td>G90 5.0 Ultimate</td>\n",
       "            <td>This car is old</td>\n",
       "        </tr>\n",
       "        <tr>\n",
       "            <td>Mercedes-Benz</td>\n",
       "            <td>Metris Base</td>\n",
       "            <td>This car is new</td>\n",
       "        </tr>\n",
       "        <tr>\n",
       "            <td>Audi</td>\n",
       "            <td>A6 2.0T Sport</td>\n",
       "            <td>This car is old</td>\n",
       "        </tr>\n",
       "    </tbody>\n",
       "</table>"
      ],
      "text/plain": [
       "[('MINI', 'Cooper S Base', 'This car is old'),\n",
       " ('Lincoln', 'LS V8', 'This car is old'),\n",
       " ('Chevrolet', 'Silverado 2500 LT', 'This car is old'),\n",
       " ('Genesis', 'G90 5.0 Ultimate', 'This car is old'),\n",
       " ('Mercedes-Benz', 'Metris Base', 'This car is new'),\n",
       " ('Audi', 'A6 2.0T Sport', 'This car is old')]"
      ]
     },
     "execution_count": 2,
     "metadata": {},
     "output_type": "execute_result"
    }
   ],
   "source": [
    "%%sql\n",
    "\n",
    "SELECT brand, model,\n",
    "CASE \n",
    "    WHEN model_year > 2020 THEN 'This car is new'\n",
    "    WHEN model_year BETWEEN 2000 AND 2019 THEN 'This car is old'\n",
    "    ELSE 'This car is very old'\n",
    "END AS PriceInfo\n",
    "FROM cars\n",
    "LIMIT 6;"
   ]
  },
  {
   "cell_type": "code",
   "execution_count": 3,
   "id": "01016d9b-83c2-4c7b-96e8-4ed2842818ee",
   "metadata": {},
   "outputs": [
    {
     "name": "stdout",
     "output_type": "stream",
     "text": [
      " * sqlite:///sql_db.db\n",
      "Done.\n"
     ]
    },
    {
     "data": {
      "text/html": [
       "<table>\n",
       "    <thead>\n",
       "        <tr>\n",
       "            <th>brand</th>\n",
       "            <th>model</th>\n",
       "            <th>model_year</th>\n",
       "            <th>fuel_type</th>\n",
       "            <th>price</th>\n",
       "        </tr>\n",
       "    </thead>\n",
       "    <tbody>\n",
       "        <tr>\n",
       "            <td>BMW</td>\n",
       "            <td>X5 PHEV xDrive45e</td>\n",
       "            <td>2023</td>\n",
       "            <td>Plug-In Hybrid</td>\n",
       "            <td>95000</td>\n",
       "        </tr>\n",
       "        <tr>\n",
       "            <td>BMW</td>\n",
       "            <td>X5 PHEV xDrive45e</td>\n",
       "            <td>2023</td>\n",
       "            <td>Plug-In Hybrid</td>\n",
       "            <td>73897</td>\n",
       "        </tr>\n",
       "        <tr>\n",
       "            <td>Mercedes-Benz</td>\n",
       "            <td>CLS-Class CLS 63 AMG S-Model 4MATIC</td>\n",
       "            <td>2015</td>\n",
       "            <td>Plug-In Hybrid</td>\n",
       "            <td>19900</td>\n",
       "        </tr>\n",
       "        <tr>\n",
       "            <td>Porsche</td>\n",
       "            <td>Cayenne E-Hybrid S Platinum Edition</td>\n",
       "            <td>2010</td>\n",
       "            <td>Plug-In Hybrid</td>\n",
       "            <td>42433</td>\n",
       "        </tr>\n",
       "        <tr>\n",
       "            <td>Porsche</td>\n",
       "            <td>Cayenne E-Hybrid S Platinum Edition</td>\n",
       "            <td>2015</td>\n",
       "            <td>Plug-In Hybrid</td>\n",
       "            <td>31500</td>\n",
       "        </tr>\n",
       "    </tbody>\n",
       "</table>"
      ],
      "text/plain": [
       "[('BMW', 'X5 PHEV xDrive45e', 2023, 'Plug-In Hybrid', 95000),\n",
       " ('BMW', 'X5 PHEV xDrive45e', 2023, 'Plug-In Hybrid', 73897),\n",
       " ('Mercedes-Benz', 'CLS-Class CLS 63 AMG S-Model 4MATIC', 2015, 'Plug-In Hybrid', 19900),\n",
       " ('Porsche', 'Cayenne E-Hybrid S Platinum Edition', 2010, 'Plug-In Hybrid', 42433),\n",
       " ('Porsche', 'Cayenne E-Hybrid S Platinum Edition', 2015, 'Plug-In Hybrid', 31500)]"
      ]
     },
     "execution_count": 3,
     "metadata": {},
     "output_type": "execute_result"
    }
   ],
   "source": [
    "%%sql\n",
    "-- use case command in sql\n",
    "\n",
    "select brand, model, model_year, fuel_type, price \n",
    "from cars\n",
    "order by\n",
    "(case\n",
    "    when fuel_type is null then model_year\n",
    "    when fuel_type is \"–\" then model_year\n",
    "    when fuel_type is \"not supported\" then model_year\n",
    "    when fuel_type is \"None\" then model_year\n",
    "    else fuel_type\n",
    "end) desc\n",
    "limit 5;"
   ]
  },
  {
   "cell_type": "markdown",
   "id": "6dd29f37-95ce-4a51-a732-0c33f8c2a392",
   "metadata": {},
   "source": [
    "# SQL NULL Functions"
   ]
  },
  {
   "cell_type": "code",
   "execution_count": 4,
   "id": "10968e88-b903-41d9-bb02-d01c7ae90421",
   "metadata": {},
   "outputs": [
    {
     "name": "stdout",
     "output_type": "stream",
     "text": [
      " * sqlite:///sql_db.db\n",
      "Done.\n"
     ]
    },
    {
     "data": {
      "text/html": [
       "<table>\n",
       "    <thead>\n",
       "        <tr>\n",
       "            <th>avg(model_year)</th>\n",
       "        </tr>\n",
       "    </thead>\n",
       "    <tbody>\n",
       "        <tr>\n",
       "            <td>2015.8299979313965</td>\n",
       "        </tr>\n",
       "    </tbody>\n",
       "</table>"
      ],
      "text/plain": [
       "[(2015.8299979313965,)]"
      ]
     },
     "execution_count": 4,
     "metadata": {},
     "output_type": "execute_result"
    }
   ],
   "source": [
    "%%sql\n",
    "\n",
    "select avg(model_year) \n",
    "from cars;"
   ]
  },
  {
   "cell_type": "code",
   "execution_count": 5,
   "id": "e02e90b8-c8a8-4c8f-a91c-d25eda1c895d",
   "metadata": {},
   "outputs": [
    {
     "name": "stdout",
     "output_type": "stream",
     "text": [
      " * sqlite:///sql_db.db\n",
      "Done.\n"
     ]
    },
    {
     "data": {
      "text/html": [
       "<table>\n",
       "    <thead>\n",
       "        <tr>\n",
       "            <th>brand</th>\n",
       "            <th>model</th>\n",
       "            <th>model_year</th>\n",
       "            <th>fuel_type</th>\n",
       "            <th>price</th>\n",
       "            <th>age</th>\n",
       "        </tr>\n",
       "    </thead>\n",
       "    <tbody>\n",
       "        <tr>\n",
       "            <td>MINI</td>\n",
       "            <td>Cooper S Base</td>\n",
       "            <td>2007</td>\n",
       "            <td>Gasoline</td>\n",
       "            <td>4200</td>\n",
       "            <td>17</td>\n",
       "        </tr>\n",
       "        <tr>\n",
       "            <td>Lincoln</td>\n",
       "            <td>LS V8</td>\n",
       "            <td>2002</td>\n",
       "            <td>Gasoline</td>\n",
       "            <td>4999</td>\n",
       "            <td>22</td>\n",
       "        </tr>\n",
       "        <tr>\n",
       "            <td>Chevrolet</td>\n",
       "            <td>Silverado 2500 LT</td>\n",
       "            <td>2002</td>\n",
       "            <td>E85 Flex Fuel</td>\n",
       "            <td>13900</td>\n",
       "            <td>22</td>\n",
       "        </tr>\n",
       "        <tr>\n",
       "            <td>Genesis</td>\n",
       "            <td>G90 5.0 Ultimate</td>\n",
       "            <td>2017</td>\n",
       "            <td>Gasoline</td>\n",
       "            <td>45000</td>\n",
       "            <td>7</td>\n",
       "        </tr>\n",
       "        <tr>\n",
       "            <td>Mercedes-Benz</td>\n",
       "            <td>Metris Base</td>\n",
       "            <td>2021</td>\n",
       "            <td>Gasoline</td>\n",
       "            <td>97500</td>\n",
       "            <td>3</td>\n",
       "        </tr>\n",
       "    </tbody>\n",
       "</table>"
      ],
      "text/plain": [
       "[('MINI', 'Cooper S Base', 2007, 'Gasoline', 4200, 17),\n",
       " ('Lincoln', 'LS V8', 2002, 'Gasoline', 4999, 22),\n",
       " ('Chevrolet', 'Silverado 2500 LT', 2002, 'E85 Flex Fuel', 13900, 22),\n",
       " ('Genesis', 'G90 5.0 Ultimate', 2017, 'Gasoline', 45000, 7),\n",
       " ('Mercedes-Benz', 'Metris Base', 2021, 'Gasoline', 97500, 3)]"
      ]
     },
     "execution_count": 5,
     "metadata": {},
     "output_type": "execute_result"
    }
   ],
   "source": [
    "%%sql\n",
    "\n",
    "SELECT brand, model, model_year, fuel_type, price, \n",
    "(2024 - model_year) AS age\n",
    "FROM cars\n",
    "LIMIT 5;"
   ]
  },
  {
   "cell_type": "markdown",
   "id": "c802e74d-17fa-448c-90d7-ca130ac3c97c",
   "metadata": {},
   "source": [
    "# SQL Comments\n",
    "- Single Line Comment: \"--abcd\"\n",
    "- Multiple Line Comment: /* abcd */"
   ]
  }
 ],
 "metadata": {
  "kernelspec": {
   "display_name": "Python 3 (ipykernel)",
   "language": "python",
   "name": "python3"
  },
  "language_info": {
   "codemirror_mode": {
    "name": "ipython",
    "version": 3
   },
   "file_extension": ".py",
   "mimetype": "text/x-python",
   "name": "python",
   "nbconvert_exporter": "python",
   "pygments_lexer": "ipython3",
   "version": "3.12.6"
  },
  "widgets": {
   "application/vnd.jupyter.widget-state+json": {
    "state": {},
    "version_major": 2,
    "version_minor": 0
   }
  }
 },
 "nbformat": 4,
 "nbformat_minor": 5
}
