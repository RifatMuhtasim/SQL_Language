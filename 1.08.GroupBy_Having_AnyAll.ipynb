{
 "cells": [
  {
   "cell_type": "code",
   "execution_count": 1,
   "id": "26aea202-443f-491e-acd6-dbb41bf174ad",
   "metadata": {},
   "outputs": [],
   "source": [
    "import sqlite3\n",
    "import pandas as pd\n",
    "\n",
    "# Load the CSV into a DataFrame\n",
    "df = pd.read_csv('used_car_price.csv')\n",
    "\n",
    "#We will sqlite3 library and create a connection\n",
    "conn = sqlite3.connect(\"sql_db.db\")\n",
    "\n",
    "# Write the DataFrame to the SQLite database as a table\n",
    "df.to_sql('cars', conn, index=False, if_exists='replace')\n",
    "\n",
    "#Load the sql module to ipython\n",
    "%load_ext sql\n",
    "\n",
    "#Load local dataset\n",
    "%sql sqlite:///sql_db.db"
   ]
  },
  {
   "cell_type": "markdown",
   "id": "57f7e4f1-a6df-4eba-9734-f618cecd7df9",
   "metadata": {},
   "source": [
    "## SQL GROUP BY Statement\n",
    "- The GROUP BY statement groups rows that have the same values into summary rows, like \"find the number of customers in each country\".\n",
    "\n",
    "- The GROUP BY statement is often used with aggregate functions `(COUNT(), MAX(), MIN(), SUM(), AVG())` to group the result-set by one or more columns.\n",
    "\n",
    "- Syntax:\n",
    "```\n",
    "SELECT column_name(s)\n",
    "FROM table_name\n",
    "WHERE condition\n",
    "GROUP BY column_name(s)\n",
    "ORDER BY column_name(s);\n",
    "```"
   ]
  },
  {
   "cell_type": "code",
   "execution_count": 2,
   "id": "a77f97cc-84ce-4d5e-aeab-15ce9fff9534",
   "metadata": {},
   "outputs": [
    {
     "name": "stdout",
     "output_type": "stream",
     "text": [
      " * sqlite:///sql_db.db\n",
      "Done.\n"
     ]
    },
    {
     "data": {
      "text/html": [
       "<table>\n",
       "    <thead>\n",
       "        <tr>\n",
       "            <th>brand</th>\n",
       "            <th>total_car</th>\n",
       "        </tr>\n",
       "    </thead>\n",
       "    <tbody>\n",
       "        <tr>\n",
       "            <td>Ford</td>\n",
       "            <td>23088</td>\n",
       "        </tr>\n",
       "        <tr>\n",
       "            <td>Mercedes-Benz</td>\n",
       "            <td>19172</td>\n",
       "        </tr>\n",
       "        <tr>\n",
       "            <td>BMW</td>\n",
       "            <td>17028</td>\n",
       "        </tr>\n",
       "        <tr>\n",
       "            <td>Chevrolet</td>\n",
       "            <td>16335</td>\n",
       "        </tr>\n",
       "        <tr>\n",
       "            <td>Audi</td>\n",
       "            <td>10887</td>\n",
       "        </tr>\n",
       "        <tr>\n",
       "            <td>Porsche</td>\n",
       "            <td>10612</td>\n",
       "        </tr>\n",
       "    </tbody>\n",
       "</table>"
      ],
      "text/plain": [
       "[('Ford', 23088),\n",
       " ('Mercedes-Benz', 19172),\n",
       " ('BMW', 17028),\n",
       " ('Chevrolet', 16335),\n",
       " ('Audi', 10887),\n",
       " ('Porsche', 10612)]"
      ]
     },
     "execution_count": 2,
     "metadata": {},
     "output_type": "execute_result"
    }
   ],
   "source": [
    "%%sql\n",
    "\n",
    "select brand, count(brand) as total_car\n",
    "from cars\n",
    "group by brand\n",
    "order by count(brand) desc\n",
    "limit 6;"
   ]
  },
  {
   "cell_type": "markdown",
   "id": "cf1a8fec-96a2-484d-bf3a-515d67d6b327",
   "metadata": {},
   "source": [
    "## SQL HAVING Clause\n",
    "- The `HAVING` clause was added to SQL because the `WHERE` keyword cannot be used with aggregate function.\n",
    "- Syntax:\n",
    "```\n",
    "SELECT column_name(s)\n",
    "FROM table_name\n",
    "WHERE condition\n",
    "GROUP BY column_name(s)\n",
    "HAVING condition\n",
    "ORDER BY column_name(s);\n",
    "```"
   ]
  },
  {
   "cell_type": "code",
   "execution_count": 3,
   "id": "edd7fce1-8ed1-4acb-9a45-8bd463d902b4",
   "metadata": {
    "scrolled": true
   },
   "outputs": [
    {
     "name": "stdout",
     "output_type": "stream",
     "text": [
      " * sqlite:///sql_db.db\n",
      "Done.\n"
     ]
    },
    {
     "data": {
      "text/html": [
       "<table>\n",
       "    <thead>\n",
       "        <tr>\n",
       "            <th>brand</th>\n",
       "            <th>model</th>\n",
       "            <th>total_cars</th>\n",
       "        </tr>\n",
       "    </thead>\n",
       "    <tbody>\n",
       "        <tr>\n",
       "            <td>Ford</td>\n",
       "            <td>F-150 XLT</td>\n",
       "            <td>2945</td>\n",
       "        </tr>\n",
       "        <tr>\n",
       "            <td>BMW</td>\n",
       "            <td>M3 Base</td>\n",
       "            <td>2229</td>\n",
       "        </tr>\n",
       "        <tr>\n",
       "            <td>Chevrolet</td>\n",
       "            <td>Camaro 2SS</td>\n",
       "            <td>1709</td>\n",
       "        </tr>\n",
       "        <tr>\n",
       "            <td>BMW</td>\n",
       "            <td>M4 Base</td>\n",
       "            <td>1622</td>\n",
       "        </tr>\n",
       "        <tr>\n",
       "            <td>Ford</td>\n",
       "            <td>Mustang GT Premium</td>\n",
       "            <td>1526</td>\n",
       "        </tr>\n",
       "        <tr>\n",
       "            <td>Ford</td>\n",
       "            <td>F-150 Lariat</td>\n",
       "            <td>1410</td>\n",
       "        </tr>\n",
       "        <tr>\n",
       "            <td>Mercedes-Benz</td>\n",
       "            <td>E-Class E 350 4MATIC</td>\n",
       "            <td>1357</td>\n",
       "        </tr>\n",
       "        <tr>\n",
       "            <td>RAM</td>\n",
       "            <td>1500 Laramie</td>\n",
       "            <td>1249</td>\n",
       "        </tr>\n",
       "        <tr>\n",
       "            <td>Porsche</td>\n",
       "            <td>911 Carrera S</td>\n",
       "            <td>1219</td>\n",
       "        </tr>\n",
       "        <tr>\n",
       "            <td>Chevrolet</td>\n",
       "            <td>Corvette Base</td>\n",
       "            <td>1184</td>\n",
       "        </tr>\n",
       "        <tr>\n",
       "            <td>Mercedes-Benz</td>\n",
       "            <td>E-Class E 350</td>\n",
       "            <td>1148</td>\n",
       "        </tr>\n",
       "        <tr>\n",
       "            <td>Lexus</td>\n",
       "            <td>GX 460 Base</td>\n",
       "            <td>1124</td>\n",
       "        </tr>\n",
       "        <tr>\n",
       "            <td>Porsche</td>\n",
       "            <td>911 Carrera</td>\n",
       "            <td>1111</td>\n",
       "        </tr>\n",
       "        <tr>\n",
       "            <td>Ford</td>\n",
       "            <td>Explorer XLT</td>\n",
       "            <td>1091</td>\n",
       "        </tr>\n",
       "        <tr>\n",
       "            <td>Chevrolet</td>\n",
       "            <td>Corvette Stingray w/2LT</td>\n",
       "            <td>1081</td>\n",
       "        </tr>\n",
       "        <tr>\n",
       "            <td>Land</td>\n",
       "            <td>Rover Range Rover Sport HSE</td>\n",
       "            <td>1027</td>\n",
       "        </tr>\n",
       "        <tr>\n",
       "            <td>Jeep</td>\n",
       "            <td>Wrangler Sport</td>\n",
       "            <td>1001</td>\n",
       "        </tr>\n",
       "    </tbody>\n",
       "</table>"
      ],
      "text/plain": [
       "[('Ford', 'F-150 XLT', 2945),\n",
       " ('BMW', 'M3 Base', 2229),\n",
       " ('Chevrolet', 'Camaro 2SS', 1709),\n",
       " ('BMW', 'M4 Base', 1622),\n",
       " ('Ford', 'Mustang GT Premium', 1526),\n",
       " ('Ford', 'F-150 Lariat', 1410),\n",
       " ('Mercedes-Benz', 'E-Class E 350 4MATIC', 1357),\n",
       " ('RAM', '1500 Laramie', 1249),\n",
       " ('Porsche', '911 Carrera S', 1219),\n",
       " ('Chevrolet', 'Corvette Base', 1184),\n",
       " ('Mercedes-Benz', 'E-Class E 350', 1148),\n",
       " ('Lexus', 'GX 460 Base', 1124),\n",
       " ('Porsche', '911 Carrera', 1111),\n",
       " ('Ford', 'Explorer XLT', 1091),\n",
       " ('Chevrolet', 'Corvette Stingray w/2LT', 1081),\n",
       " ('Land', 'Rover Range Rover Sport HSE', 1027),\n",
       " ('Jeep', 'Wrangler Sport', 1001)]"
      ]
     },
     "execution_count": 3,
     "metadata": {},
     "output_type": "execute_result"
    }
   ],
   "source": [
    "%%sql\n",
    "\n",
    "select brand, model, count(model) as total_cars\n",
    "from cars\n",
    "group by model\n",
    "having count(model) > 1000\n",
    "order by count(model) desc;"
   ]
  },
  {
   "cell_type": "code",
   "execution_count": 4,
   "id": "1c569000-3a0d-4da5-85d4-40c3b21cd5a4",
   "metadata": {},
   "outputs": [
    {
     "name": "stdout",
     "output_type": "stream",
     "text": [
      " * sqlite:///sql_db.db\n",
      "Done.\n"
     ]
    },
    {
     "data": {
      "text/html": [
       "<table>\n",
       "    <thead>\n",
       "        <tr>\n",
       "            <th>model</th>\n",
       "            <th>total_cars</th>\n",
       "        </tr>\n",
       "    </thead>\n",
       "    <tbody>\n",
       "        <tr>\n",
       "            <td>F-150 XLT</td>\n",
       "            <td>2934</td>\n",
       "        </tr>\n",
       "        <tr>\n",
       "            <td>Mustang GT Premium</td>\n",
       "            <td>1515</td>\n",
       "        </tr>\n",
       "        <tr>\n",
       "            <td>F-150 Lariat</td>\n",
       "            <td>1404</td>\n",
       "        </tr>\n",
       "        <tr>\n",
       "            <td>Explorer XLT</td>\n",
       "            <td>1083</td>\n",
       "        </tr>\n",
       "    </tbody>\n",
       "</table>"
      ],
      "text/plain": [
       "[('F-150 XLT', 2934),\n",
       " ('Mustang GT Premium', 1515),\n",
       " ('F-150 Lariat', 1404),\n",
       " ('Explorer XLT', 1083)]"
      ]
     },
     "execution_count": 4,
     "metadata": {},
     "output_type": "execute_result"
    }
   ],
   "source": [
    "%%sql\n",
    "-- return only ford cars model with their counts\n",
    "\n",
    "select model, count(model) as total_cars\n",
    "from cars\n",
    "where brand = 'Ford'\n",
    "group by model\n",
    "having count(model) > 1000\n",
    "order by count(model) desc;"
   ]
  },
  {
   "cell_type": "markdown",
   "id": "5e318553-baa4-4928-8a97-3ee2976eeedf",
   "metadata": {},
   "source": [
    "## SQL ANY and ALL Operators\n",
    "- The ANY and ALL operators allow you to perform a comparison between a single column value and a range of other values.\n",
    "### The `ANY` Operator:\n",
    "    - returns a boolean value as a result.\n",
    "    - returns TRUE if ANY of the subquery values meet the condition.\n",
    "    - ANY Means that the condition will be true if the operation is true for any of the values in the range.\n",
    "\n",
    "- Syntax:\n",
    "```\n",
    "SELECT column_name(s)\n",
    "FROM table_name\n",
    "WHERE column_name operator ANY\n",
    "  (SELECT column_name\n",
    "  FROM table_name\n",
    "  WHERE condition);\n",
    "```"
   ]
  },
  {
   "cell_type": "markdown",
   "id": "28a018ae-0bf1-4505-8442-6d9ed24355fa",
   "metadata": {},
   "source": [
    "- For Example:\n",
    "```\n",
    "SELECT ProductName\n",
    "FROM Products\n",
    "WHERE ProductID = ANY\n",
    "(SELECT ProductID\n",
    "FROM OrderDetails\n",
    "WHERE Quantity > 1000);\n",
    "```"
   ]
  },
  {
   "cell_type": "markdown",
   "id": "19a5b871-8385-4bfe-a977-b06aa07df082",
   "metadata": {},
   "source": [
    "### The `ALL` Operator:\n",
    "    - returns a boolean value as a result.\n",
    "    - returns TRUE if ALL of the subquery values meet the codtion\n",
    "    - is used with `SELECT`, `WHERE`, `HAVING` statement.\n",
    "- Syntax:\n",
    "```\n",
    "SELECT ALL column_name(s)\n",
    "FROM table_name\n",
    "WHERE condition;\n",
    "```"
   ]
  },
  {
   "cell_type": "markdown",
   "id": "6ba95ffa-18bf-46b5-8c59-e6868446f474",
   "metadata": {},
   "source": [
    "- For Example:\n",
    "```\n",
    "SELECT ProductName\n",
    "FROM Products\n",
    "WHERE ProductID = ALL\n",
    "  (SELECT ProductID\n",
    "  FROM OrderDetails\n",
    "  WHERE Quantity = 10);\n",
    "```"
   ]
  },
  {
   "cell_type": "markdown",
   "id": "b90c23d0-68f7-49fb-a40c-31e1264beae4",
   "metadata": {},
   "source": [
    "# SQL SELECT INTO Statement\n",
    "- The `SELECT INTO` statement copies data from one table into a new table.\n"
   ]
  },
  {
   "cell_type": "code",
   "execution_count": 5,
   "id": "42ca85e0-c162-4146-8f13-8df8fd64681e",
   "metadata": {},
   "outputs": [
    {
     "name": "stdout",
     "output_type": "stream",
     "text": [
      " * sqlite:///sql_db.db\n",
      "(sqlite3.OperationalError) near \"into\": syntax error\n",
      "[SQL: select * into luxury_cars \n",
      "from cars \n",
      "where price > 1000000;]\n",
      "(Background on this error at: https://sqlalche.me/e/20/e3q8)\n"
     ]
    }
   ],
   "source": [
    "%%sql\n",
    "\n",
    "select * into luxury_cars \n",
    "from cars \n",
    "where price > 1000000;"
   ]
  },
  {
   "cell_type": "markdown",
   "id": "c0101d6a-e546-4862-9343-ec18ab1e6988",
   "metadata": {
    "scrolled": true
   },
   "source": [
    "# SQL INSERT INTO SELECT Statement\n",
    "- The INSERT INTO SELECT statement copies data from one table and inserts it into another table.\n",
    "- Syntax:\n",
    "```\n",
    "INSERT INTO table2\n",
    "SELECT * FROM table1\n",
    "WHERE condition;\n",
    "```"
   ]
  },
  {
   "cell_type": "code",
   "execution_count": 6,
   "id": "54680df9-3fb8-49e2-b8ee-4ef5d2f5ab1b",
   "metadata": {},
   "outputs": [
    {
     "name": "stdout",
     "output_type": "stream",
     "text": [
      " * sqlite:///sql_db.db\n",
      "(sqlite3.OperationalError) no such table: luxury_cars\n",
      "[SQL: -- create a new table\n",
      "\n",
      "insert into luxury_cars\n",
      "select * \n",
      "from cars \n",
      "where price > 100000;]\n",
      "(Background on this error at: https://sqlalche.me/e/20/e3q8)\n"
     ]
    }
   ],
   "source": [
    "%%sql\n",
    "-- create a new table\n",
    "\n",
    "insert into luxury_cars\n",
    "select * \n",
    "from cars \n",
    "where price > 100000;"
   ]
  }
 ],
 "metadata": {
  "kernelspec": {
   "display_name": "Python 3 (ipykernel)",
   "language": "python",
   "name": "python3"
  },
  "language_info": {
   "codemirror_mode": {
    "name": "ipython",
    "version": 3
   },
   "file_extension": ".py",
   "mimetype": "text/x-python",
   "name": "python",
   "nbconvert_exporter": "python",
   "pygments_lexer": "ipython3",
   "version": "3.12.6"
  },
  "widgets": {
   "application/vnd.jupyter.widget-state+json": {
    "state": {},
    "version_major": 2,
    "version_minor": 0
   }
  }
 },
 "nbformat": 4,
 "nbformat_minor": 5
}
