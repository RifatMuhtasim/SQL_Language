{
 "cells": [
  {
   "cell_type": "code",
   "execution_count": 1,
   "id": "2552cf13-bc57-4ce1-9b2d-ed33c19174e4",
   "metadata": {},
   "outputs": [],
   "source": [
    "import sqlite3\n",
    "import pandas as pd\n",
    "\n",
    "# Load the CSV into a DataFrame\n",
    "df = pd.read_csv('used_car_price.csv')\n",
    "\n",
    "#We will sqlite3 library and create a connection\n",
    "conn = sqlite3.connect(\"sql_db.db\")\n",
    "\n",
    "# Write the DataFrame to the SQLite database as a table\n",
    "df.to_sql('cars', conn, index=False, if_exists='replace')\n",
    "\n",
    "#Load the sql module to ipython\n",
    "%load_ext sql\n",
    "\n",
    "#Load local dataset\n",
    "%sql sqlite:///sql_db.db"
   ]
  },
  {
   "cell_type": "markdown",
   "id": "1379e071-484b-47d3-8cd9-b25b32251c06",
   "metadata": {},
   "source": [
    "# SQL Dates\n",
    "MySQL comes with the following data types for storing a date or a date/time value in the database:\n",
    "\n",
    "- DATE - format YYYY-MM-DD\n",
    "- DATETIME - format: YYYY-MM-DD HH:MI:SS\n",
    "- TIMESTAMP - format: YYYY-MM-DD HH:MI:SS\n",
    "- YEAR - format YYYY or YY\n"
   ]
  },
  {
   "cell_type": "code",
   "execution_count": 2,
   "id": "e4273295-08e9-4bb3-9ca8-12145d0a713c",
   "metadata": {},
   "outputs": [
    {
     "name": "stdout",
     "output_type": "stream",
     "text": [
      " * sqlite:///sql_db.db\n",
      "Done.\n"
     ]
    },
    {
     "data": {
      "text/html": [
       "<table>\n",
       "    <thead>\n",
       "        <tr>\n",
       "            <th>id</th>\n",
       "            <th>brand</th>\n",
       "            <th>model</th>\n",
       "            <th>model_year</th>\n",
       "            <th>milage</th>\n",
       "            <th>fuel_type</th>\n",
       "            <th>engine</th>\n",
       "            <th>transmission</th>\n",
       "            <th>ext_col</th>\n",
       "            <th>int_col</th>\n",
       "            <th>accident</th>\n",
       "            <th>clean_title</th>\n",
       "            <th>price</th>\n",
       "        </tr>\n",
       "    </thead>\n",
       "    <tbody>\n",
       "        <tr>\n",
       "            <td>5570</td>\n",
       "            <td>Lexus</td>\n",
       "            <td>NX 300h Base</td>\n",
       "            <td>2024</td>\n",
       "            <td>16425</td>\n",
       "            <td>Hybrid</td>\n",
       "            <td>2.5L I4 16V MPFI DOHC Hybrid</td>\n",
       "            <td>Automatic CVT</td>\n",
       "            <td>Black</td>\n",
       "            <td>Gray</td>\n",
       "            <td>None reported</td>\n",
       "            <td>Yes</td>\n",
       "            <td>44700</td>\n",
       "        </tr>\n",
       "        <tr>\n",
       "            <td>6143</td>\n",
       "            <td>BMW</td>\n",
       "            <td>330 i xDrive</td>\n",
       "            <td>2024</td>\n",
       "            <td>8700</td>\n",
       "            <td>Gasoline</td>\n",
       "            <td>255.0HP 2.0L 4 Cylinder Engine Gasoline Fuel</td>\n",
       "            <td>A/T</td>\n",
       "            <td>Blue</td>\n",
       "            <td>White</td>\n",
       "            <td>None reported</td>\n",
       "            <td>Yes</td>\n",
       "            <td>33000</td>\n",
       "        </tr>\n",
       "        <tr>\n",
       "            <td>7164</td>\n",
       "            <td>BMW</td>\n",
       "            <td>M3 CS</td>\n",
       "            <td>2024</td>\n",
       "            <td>31850</td>\n",
       "            <td>Gasoline</td>\n",
       "            <td>543.0HP 3.0L Straight 6 Cylinder Engine Gasoline Fuel</td>\n",
       "            <td>Transmission w/Dual Shift Mode</td>\n",
       "            <td>Black</td>\n",
       "            <td>Black</td>\n",
       "            <td>None reported</td>\n",
       "            <td>Yes</td>\n",
       "            <td>22550</td>\n",
       "        </tr>\n",
       "    </tbody>\n",
       "</table>"
      ],
      "text/plain": [
       "[(5570, 'Lexus', 'NX 300h Base', 2024, 16425, 'Hybrid', '2.5L I4 16V MPFI DOHC Hybrid', 'Automatic CVT', 'Black', 'Gray', 'None reported', 'Yes', 44700),\n",
       " (6143, 'BMW', '330 i xDrive', 2024, 8700, 'Gasoline', '255.0HP 2.0L 4 Cylinder Engine Gasoline Fuel', 'A/T', 'Blue', 'White', 'None reported', 'Yes', 33000),\n",
       " (7164, 'BMW', 'M3 CS', 2024, 31850, 'Gasoline', '543.0HP 3.0L Straight 6 Cylinder Engine Gasoline Fuel', 'Transmission w/Dual Shift Mode', 'Black', 'Black', 'None reported', 'Yes', 22550)]"
      ]
     },
     "execution_count": 2,
     "metadata": {},
     "output_type": "execute_result"
    }
   ],
   "source": [
    "%%sql\n",
    "\n",
    "select * \n",
    "from cars \n",
    "where model_year = \"2024\" \n",
    "limit 3;"
   ]
  },
  {
   "cell_type": "markdown",
   "id": "af603cd9-6883-4673-91aa-58c583c54c10",
   "metadata": {},
   "source": [
    "# SQL Views\n",
    "In SQL, a view is a virtual table based on the result-set of an SQL statement.\n",
    "\n",
    "A view contains rows and columns, just like a real table. The fields in a view are fields from one or more real tables in the database.\n",
    "\n",
    "- Create View Syntax:\n",
    "```\n",
    "CREATE VIEW view_name AS\n",
    "SELECT column1, column2, ...\n",
    "FROM table_name\n",
    "WHERE condition;\n",
    "```"
   ]
  },
  {
   "cell_type": "code",
   "execution_count": 3,
   "id": "c9f0ea14-4c8c-47d6-8db6-3317ea8c572d",
   "metadata": {},
   "outputs": [
    {
     "name": "stdout",
     "output_type": "stream",
     "text": [
      " * sqlite:///sql_db.db\n",
      "(sqlite3.OperationalError) view [ferarri_cars] already exists\n",
      "[SQL: -- Ferarri cars\n",
      "\n",
      "create view [ferarri_cars] as\n",
      "select * \n",
      "from cars \n",
      "where brand = 'Ferrari';]\n",
      "(Background on this error at: https://sqlalche.me/e/20/e3q8)\n"
     ]
    }
   ],
   "source": [
    "%%sql\n",
    "-- Ferarri cars\n",
    "\n",
    "create view [ferarri_cars] as\n",
    "select * \n",
    "from cars \n",
    "where brand = 'Ferrari';"
   ]
  },
  {
   "cell_type": "code",
   "execution_count": 4,
   "id": "9c8913f2-6e52-4520-8b55-e03a580cbecb",
   "metadata": {
    "scrolled": true
   },
   "outputs": [
    {
     "name": "stdout",
     "output_type": "stream",
     "text": [
      " * sqlite:///sql_db.db\n",
      "Done.\n"
     ]
    },
    {
     "data": {
      "text/html": [
       "<table>\n",
       "    <thead>\n",
       "        <tr>\n",
       "            <th>id</th>\n",
       "            <th>brand</th>\n",
       "            <th>model</th>\n",
       "            <th>model_year</th>\n",
       "            <th>milage</th>\n",
       "            <th>fuel_type</th>\n",
       "            <th>engine</th>\n",
       "            <th>transmission</th>\n",
       "            <th>ext_col</th>\n",
       "            <th>int_col</th>\n",
       "            <th>accident</th>\n",
       "            <th>clean_title</th>\n",
       "            <th>price</th>\n",
       "        </tr>\n",
       "    </thead>\n",
       "    <tbody>\n",
       "        <tr>\n",
       "            <td>251</td>\n",
       "            <td>Ferrari</td>\n",
       "            <td>911 GT2 RS</td>\n",
       "            <td>2022</td>\n",
       "            <td>19250</td>\n",
       "            <td>Gasoline</td>\n",
       "            <td>710.0HP 4.0L 8 Cylinder Engine Gasoline Fuel</td>\n",
       "            <td>8-Speed A/T</td>\n",
       "            <td>Orange</td>\n",
       "            <td>Red</td>\n",
       "            <td>None reported</td>\n",
       "            <td>Yes</td>\n",
       "            <td>124900</td>\n",
       "        </tr>\n",
       "        <tr>\n",
       "            <td>433</td>\n",
       "            <td>Ferrari</td>\n",
       "            <td>F12berlinetta Base</td>\n",
       "            <td>2017</td>\n",
       "            <td>25520</td>\n",
       "            <td>Gasoline</td>\n",
       "            <td>6.3L V12 48V GDI DOHC</td>\n",
       "            <td>7-Speed Automatic with Auto-Shift</td>\n",
       "            <td>Gray</td>\n",
       "            <td>BLACK</td>\n",
       "            <td>None reported</td>\n",
       "            <td>None</td>\n",
       "            <td>449995</td>\n",
       "        </tr>\n",
       "        <tr>\n",
       "            <td>1554</td>\n",
       "            <td>Ferrari</td>\n",
       "            <td>F12berlinetta Base</td>\n",
       "            <td>2018</td>\n",
       "            <td>28220</td>\n",
       "            <td>Gasoline</td>\n",
       "            <td>759.0HP 6.5L 12 Cylinder Engine Gasoline Fuel</td>\n",
       "            <td>8-Speed A/T</td>\n",
       "            <td>Gray</td>\n",
       "            <td>White</td>\n",
       "            <td>None reported</td>\n",
       "            <td>Yes</td>\n",
       "            <td>37400</td>\n",
       "        </tr>\n",
       "    </tbody>\n",
       "</table>"
      ],
      "text/plain": [
       "[(251, 'Ferrari', '911 GT2 RS', 2022, 19250, 'Gasoline', '710.0HP 4.0L 8 Cylinder Engine Gasoline Fuel', '8-Speed A/T', 'Orange', 'Red', 'None reported', 'Yes', 124900),\n",
       " (433, 'Ferrari', 'F12berlinetta Base', 2017, 25520, 'Gasoline', '6.3L V12 48V GDI DOHC', '7-Speed Automatic with Auto-Shift', 'Gray', 'BLACK', 'None reported', None, 449995),\n",
       " (1554, 'Ferrari', 'F12berlinetta Base', 2018, 28220, 'Gasoline', '759.0HP 6.5L 12 Cylinder Engine Gasoline Fuel', '8-Speed A/T', 'Gray', 'White', 'None reported', 'Yes', 37400)]"
      ]
     },
     "execution_count": 4,
     "metadata": {},
     "output_type": "execute_result"
    }
   ],
   "source": [
    "%%sql\n",
    "--view all ferrari cars\n",
    "\n",
    "select * \n",
    "from [ferarri_cars]\n",
    "limit 3;"
   ]
  },
  {
   "cell_type": "code",
   "execution_count": 5,
   "id": "9f712321-04b1-44e0-88e0-616ae549690f",
   "metadata": {},
   "outputs": [
    {
     "name": "stdout",
     "output_type": "stream",
     "text": [
      " * sqlite:///sql_db.db\n",
      "(sqlite3.OperationalError) view [gasoline_cars] already exists\n",
      "[SQL: create view [gasoline_cars] as\n",
      "select * \n",
      "from cars\n",
      "where fuel_type = \"Gasoline\";]\n",
      "(Background on this error at: https://sqlalche.me/e/20/e3q8)\n"
     ]
    }
   ],
   "source": [
    "%%sql\n",
    "\n",
    "create view [gasoline_cars] as\n",
    "select * \n",
    "from cars\n",
    "where fuel_type = \"Gasoline\";"
   ]
  },
  {
   "cell_type": "markdown",
   "id": "b38c40ed-01d2-4cc9-9d3f-b92b82c42811",
   "metadata": {},
   "source": [
    "## SQL Dropping View"
   ]
  },
  {
   "cell_type": "code",
   "execution_count": 6,
   "id": "70df3bd8-633c-4361-a6c5-ff6a090fd707",
   "metadata": {},
   "outputs": [
    {
     "name": "stdout",
     "output_type": "stream",
     "text": [
      " * sqlite:///sql_db.db\n",
      "Done.\n"
     ]
    },
    {
     "data": {
      "text/plain": [
       "[]"
      ]
     },
     "execution_count": 6,
     "metadata": {},
     "output_type": "execute_result"
    }
   ],
   "source": [
    "%%sql\n",
    "drop view gasoline_cars;"
   ]
  }
 ],
 "metadata": {
  "kernelspec": {
   "display_name": "Python 3 (ipykernel)",
   "language": "python",
   "name": "python3"
  },
  "language_info": {
   "codemirror_mode": {
    "name": "ipython",
    "version": 3
   },
   "file_extension": ".py",
   "mimetype": "text/x-python",
   "name": "python",
   "nbconvert_exporter": "python",
   "pygments_lexer": "ipython3",
   "version": "3.12.6"
  },
  "widgets": {
   "application/vnd.jupyter.widget-state+json": {
    "state": {},
    "version_major": 2,
    "version_minor": 0
   }
  }
 },
 "nbformat": 4,
 "nbformat_minor": 5
}
