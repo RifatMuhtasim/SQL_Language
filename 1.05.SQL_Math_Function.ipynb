{
 "cells": [
  {
   "cell_type": "code",
   "execution_count": 1,
   "id": "c1e7d459-c7d0-4c40-96f9-2e563bf2a023",
   "metadata": {},
   "outputs": [],
   "source": [
    "import sqlite3\n",
    "import pandas as pd\n",
    "\n",
    "# Load the CSV into a DataFrame\n",
    "df = pd.read_csv('used_car_price.csv')\n",
    "\n",
    "#We will sqlite3 library and create a connection\n",
    "conn = sqlite3.connect(\"sql_db.db\")\n",
    "\n",
    "# Write the DataFrame to the SQLite database as a table\n",
    "df.to_sql('cars', conn, index=False, if_exists='replace')\n",
    "\n",
    "#Load the sql module to ipython\n",
    "%load_ext sql\n",
    "\n",
    "#Load local dataset\n",
    "%sql sqlite:///sql_db.db"
   ]
  },
  {
   "cell_type": "markdown",
   "id": "6b3fc7d3-b173-48b4-9e3d-e3d26a38c008",
   "metadata": {},
   "source": [
    "## SQL Aggregate Function\n",
    "An aggregate function is a function that performs a calculation on a set of values, and returns a single value.\n",
    "The most commonly used SQL aggregate functions are:\n",
    "- MIN() - returns the smallest value within the selected column\n",
    "- MAX() - returns the largest value within the selected column\n",
    "- COUNT() - returns the number of rows in a set\n",
    "- SUM() - returns the total sum of a numerical column\n",
    "- AVG() - returns the average value of a numerical column"
   ]
  },
  {
   "cell_type": "code",
   "execution_count": 2,
   "id": "1ec6db17-c16d-4cd2-bc83-4427dcded7a6",
   "metadata": {},
   "outputs": [
    {
     "name": "stdout",
     "output_type": "stream",
     "text": [
      " * sqlite:///sql_db.db\n",
      "Done.\n"
     ]
    },
    {
     "data": {
      "text/html": [
       "<table>\n",
       "    <thead>\n",
       "        <tr>\n",
       "            <th>min(model_year)</th>\n",
       "        </tr>\n",
       "    </thead>\n",
       "    <tbody>\n",
       "        <tr>\n",
       "            <td>1974</td>\n",
       "        </tr>\n",
       "    </tbody>\n",
       "</table>"
      ],
      "text/plain": [
       "[(1974,)]"
      ]
     },
     "execution_count": 2,
     "metadata": {},
     "output_type": "execute_result"
    }
   ],
   "source": [
    "%%sql\n",
    "-- MIN()\n",
    "\n",
    "select min(model_year) from cars;"
   ]
  },
  {
   "cell_type": "code",
   "execution_count": 3,
   "id": "08b7f1b8-9674-446a-bbe7-446521e7777e",
   "metadata": {},
   "outputs": [
    {
     "name": "stdout",
     "output_type": "stream",
     "text": [
      " * sqlite:///sql_db.db\n",
      "Done.\n"
     ]
    },
    {
     "data": {
      "text/html": [
       "<table>\n",
       "    <thead>\n",
       "        <tr>\n",
       "            <th>max(milage)</th>\n",
       "        </tr>\n",
       "    </thead>\n",
       "    <tbody>\n",
       "        <tr>\n",
       "            <td>405000</td>\n",
       "        </tr>\n",
       "    </tbody>\n",
       "</table>"
      ],
      "text/plain": [
       "[(405000,)]"
      ]
     },
     "execution_count": 3,
     "metadata": {},
     "output_type": "execute_result"
    }
   ],
   "source": [
    "%%sql\n",
    "-- MAX()\n",
    "\n",
    "select max(milage) from cars;"
   ]
  },
  {
   "cell_type": "code",
   "execution_count": 4,
   "id": "4823ae16-69e2-43a8-981f-7fe8f17d5c8a",
   "metadata": {},
   "outputs": [
    {
     "name": "stdout",
     "output_type": "stream",
     "text": [
      " * sqlite:///sql_db.db\n",
      "Done.\n"
     ]
    },
    {
     "data": {
      "text/html": [
       "<table>\n",
       "    <thead>\n",
       "        <tr>\n",
       "            <th>max(milage)</th>\n",
       "        </tr>\n",
       "    </thead>\n",
       "    <tbody>\n",
       "        <tr>\n",
       "            <td>89988</td>\n",
       "        </tr>\n",
       "    </tbody>\n",
       "</table>"
      ],
      "text/plain": [
       "[(89988,)]"
      ]
     },
     "execution_count": 4,
     "metadata": {},
     "output_type": "execute_result"
    }
   ],
   "source": [
    "%%sql\n",
    "-- MAX() with condition\n",
    "\n",
    "select max(milage) from cars where model_year=2024;"
   ]
  },
  {
   "cell_type": "code",
   "execution_count": 5,
   "id": "0d363410-64d0-44f0-8497-1d6a1c4794b1",
   "metadata": {},
   "outputs": [
    {
     "name": "stdout",
     "output_type": "stream",
     "text": [
      " * sqlite:///sql_db.db\n",
      "Done.\n"
     ]
    },
    {
     "data": {
      "text/html": [
       "<table>\n",
       "    <thead>\n",
       "        <tr>\n",
       "            <th>fuel_type</th>\n",
       "            <th>maximum_price</th>\n",
       "        </tr>\n",
       "    </thead>\n",
       "    <tbody>\n",
       "        <tr>\n",
       "            <td>None</td>\n",
       "            <td>2954083</td>\n",
       "        </tr>\n",
       "        <tr>\n",
       "            <td>Diesel</td>\n",
       "            <td>2954083</td>\n",
       "        </tr>\n",
       "        <tr>\n",
       "            <td>E85 Flex Fuel</td>\n",
       "            <td>2954083</td>\n",
       "        </tr>\n",
       "        <tr>\n",
       "            <td>Gasoline</td>\n",
       "            <td>2954083</td>\n",
       "        </tr>\n",
       "        <tr>\n",
       "            <td>Hybrid</td>\n",
       "            <td>1599000</td>\n",
       "        </tr>\n",
       "        <tr>\n",
       "            <td>Plug-In Hybrid</td>\n",
       "            <td>399950</td>\n",
       "        </tr>\n",
       "        <tr>\n",
       "            <td>not supported</td>\n",
       "            <td>60000</td>\n",
       "        </tr>\n",
       "        <tr>\n",
       "            <td>–</td>\n",
       "            <td>2954083</td>\n",
       "        </tr>\n",
       "    </tbody>\n",
       "</table>"
      ],
      "text/plain": [
       "[(None, 2954083),\n",
       " ('Diesel', 2954083),\n",
       " ('E85 Flex Fuel', 2954083),\n",
       " ('Gasoline', 2954083),\n",
       " ('Hybrid', 1599000),\n",
       " ('Plug-In Hybrid', 399950),\n",
       " ('not supported', 60000),\n",
       " ('–', 2954083)]"
      ]
     },
     "execution_count": 5,
     "metadata": {},
     "output_type": "execute_result"
    }
   ],
   "source": [
    "%%sql\n",
    "-- Use Group by\n",
    "select fuel_type, max(price) as maximum_price from cars group by fuel_type;"
   ]
  },
  {
   "cell_type": "code",
   "execution_count": 6,
   "id": "8cdcdca7-f11e-4d18-b6e9-487aaab1bbae",
   "metadata": {},
   "outputs": [
    {
     "name": "stdout",
     "output_type": "stream",
     "text": [
      " * sqlite:///sql_db.db\n",
      "Done.\n"
     ]
    },
    {
     "data": {
      "text/html": [
       "<table>\n",
       "    <thead>\n",
       "        <tr>\n",
       "            <th>fuel_type</th>\n",
       "            <th>total_numbers</th>\n",
       "        </tr>\n",
       "    </thead>\n",
       "    <tbody>\n",
       "        <tr>\n",
       "            <td>None</td>\n",
       "            <td>5083</td>\n",
       "        </tr>\n",
       "        <tr>\n",
       "            <td>Diesel</td>\n",
       "            <td>3955</td>\n",
       "        </tr>\n",
       "        <tr>\n",
       "            <td>E85 Flex Fuel</td>\n",
       "            <td>5406</td>\n",
       "        </tr>\n",
       "        <tr>\n",
       "            <td>Gasoline</td>\n",
       "            <td>165940</td>\n",
       "        </tr>\n",
       "        <tr>\n",
       "            <td>Hybrid</td>\n",
       "            <td>6832</td>\n",
       "        </tr>\n",
       "        <tr>\n",
       "            <td>Plug-In Hybrid</td>\n",
       "            <td>521</td>\n",
       "        </tr>\n",
       "        <tr>\n",
       "            <td>not supported</td>\n",
       "            <td>15</td>\n",
       "        </tr>\n",
       "        <tr>\n",
       "            <td>–</td>\n",
       "            <td>781</td>\n",
       "        </tr>\n",
       "    </tbody>\n",
       "</table>"
      ],
      "text/plain": [
       "[(None, 5083),\n",
       " ('Diesel', 3955),\n",
       " ('E85 Flex Fuel', 5406),\n",
       " ('Gasoline', 165940),\n",
       " ('Hybrid', 6832),\n",
       " ('Plug-In Hybrid', 521),\n",
       " ('not supported', 15),\n",
       " ('–', 781)]"
      ]
     },
     "execution_count": 6,
     "metadata": {},
     "output_type": "execute_result"
    }
   ],
   "source": [
    "%%sql\n",
    "-- using group by to count\n",
    "\n",
    "select fuel_type, count(*) as total_numbers from cars group by fuel_type;"
   ]
  },
  {
   "cell_type": "code",
   "execution_count": 7,
   "id": "12a2db34-2014-412f-ac1b-13fbf8f50ade",
   "metadata": {},
   "outputs": [
    {
     "name": "stdout",
     "output_type": "stream",
     "text": [
      " * sqlite:///sql_db.db\n",
      "Done.\n"
     ]
    },
    {
     "data": {
      "text/html": [
       "<table>\n",
       "    <thead>\n",
       "        <tr>\n",
       "            <th>brand</th>\n",
       "            <th>count(*)</th>\n",
       "        </tr>\n",
       "    </thead>\n",
       "    <tbody>\n",
       "        <tr>\n",
       "            <td>Aston</td>\n",
       "            <td>1</td>\n",
       "        </tr>\n",
       "        <tr>\n",
       "            <td>Audi</td>\n",
       "            <td>1</td>\n",
       "        </tr>\n",
       "        <tr>\n",
       "            <td>Bentley</td>\n",
       "            <td>1</td>\n",
       "        </tr>\n",
       "        <tr>\n",
       "            <td>Cadillac</td>\n",
       "            <td>4</td>\n",
       "        </tr>\n",
       "        <tr>\n",
       "            <td>Chevrolet</td>\n",
       "            <td>4</td>\n",
       "        </tr>\n",
       "        <tr>\n",
       "            <td>Chrysler</td>\n",
       "            <td>1</td>\n",
       "        </tr>\n",
       "        <tr>\n",
       "            <td>Dodge</td>\n",
       "            <td>1</td>\n",
       "        </tr>\n",
       "        <tr>\n",
       "            <td>Ford</td>\n",
       "            <td>9</td>\n",
       "        </tr>\n",
       "        <tr>\n",
       "            <td>GMC</td>\n",
       "            <td>1</td>\n",
       "        </tr>\n",
       "        <tr>\n",
       "            <td>Honda</td>\n",
       "            <td>1</td>\n",
       "        </tr>\n",
       "        <tr>\n",
       "            <td>Hyundai</td>\n",
       "            <td>1</td>\n",
       "        </tr>\n",
       "        <tr>\n",
       "            <td>INFINITI</td>\n",
       "            <td>1</td>\n",
       "        </tr>\n",
       "        <tr>\n",
       "            <td>Land</td>\n",
       "            <td>5</td>\n",
       "        </tr>\n",
       "        <tr>\n",
       "            <td>Lexus</td>\n",
       "            <td>4</td>\n",
       "        </tr>\n",
       "        <tr>\n",
       "            <td>Mercedes-Benz</td>\n",
       "            <td>6</td>\n",
       "        </tr>\n",
       "        <tr>\n",
       "            <td>Pontiac</td>\n",
       "            <td>1</td>\n",
       "        </tr>\n",
       "        <tr>\n",
       "            <td>RAM</td>\n",
       "            <td>5</td>\n",
       "        </tr>\n",
       "        <tr>\n",
       "            <td>Tesla</td>\n",
       "            <td>1</td>\n",
       "        </tr>\n",
       "        <tr>\n",
       "            <td>Toyota</td>\n",
       "            <td>2</td>\n",
       "        </tr>\n",
       "    </tbody>\n",
       "</table>"
      ],
      "text/plain": [
       "[('Aston', 1),\n",
       " ('Audi', 1),\n",
       " ('Bentley', 1),\n",
       " ('Cadillac', 4),\n",
       " ('Chevrolet', 4),\n",
       " ('Chrysler', 1),\n",
       " ('Dodge', 1),\n",
       " ('Ford', 9),\n",
       " ('GMC', 1),\n",
       " ('Honda', 1),\n",
       " ('Hyundai', 1),\n",
       " ('INFINITI', 1),\n",
       " ('Land', 5),\n",
       " ('Lexus', 4),\n",
       " ('Mercedes-Benz', 6),\n",
       " ('Pontiac', 1),\n",
       " ('RAM', 5),\n",
       " ('Tesla', 1),\n",
       " ('Toyota', 2)]"
      ]
     },
     "execution_count": 7,
     "metadata": {},
     "output_type": "execute_result"
    }
   ],
   "source": [
    "%%sql\n",
    "-- Count the luxury cars with brands\n",
    "\n",
    "select brand, count(*) from cars where price > 2000000 group by brand;"
   ]
  },
  {
   "cell_type": "code",
   "execution_count": 8,
   "id": "26602da1-2c99-41ff-802b-014536cd8979",
   "metadata": {},
   "outputs": [
    {
     "name": "stdout",
     "output_type": "stream",
     "text": [
      " * sqlite:///sql_db.db\n",
      "Done.\n"
     ]
    },
    {
     "data": {
      "text/html": [
       "<table>\n",
       "    <thead>\n",
       "        <tr>\n",
       "            <th>total_used_car_price</th>\n",
       "        </tr>\n",
       "    </thead>\n",
       "    <tbody>\n",
       "        <tr>\n",
       "            <td>8272454024</td>\n",
       "        </tr>\n",
       "    </tbody>\n",
       "</table>"
      ],
      "text/plain": [
       "[(8272454024,)]"
      ]
     },
     "execution_count": 8,
     "metadata": {},
     "output_type": "execute_result"
    }
   ],
   "source": [
    "%%sql\n",
    "-- sum()\n",
    "\n",
    "select sum(price) as total_used_car_price from cars;"
   ]
  },
  {
   "cell_type": "code",
   "execution_count": 9,
   "id": "3637eab1-459a-4fcb-bde3-236924642226",
   "metadata": {},
   "outputs": [
    {
     "name": "stdout",
     "output_type": "stream",
     "text": [
      " * sqlite:///sql_db.db\n",
      "Done.\n"
     ]
    },
    {
     "data": {
      "text/html": [
       "<table>\n",
       "    <thead>\n",
       "        <tr>\n",
       "            <th>total_hybrid_car_price</th>\n",
       "        </tr>\n",
       "    </thead>\n",
       "    <tbody>\n",
       "        <tr>\n",
       "            <td>378994622</td>\n",
       "        </tr>\n",
       "    </tbody>\n",
       "</table>"
      ],
      "text/plain": [
       "[(378994622,)]"
      ]
     },
     "execution_count": 9,
     "metadata": {},
     "output_type": "execute_result"
    }
   ],
   "source": [
    "%%sql\n",
    "-- Hybrid car price\n",
    "\n",
    "select sum(price) as total_hybrid_car_price from cars where fuel_type='Hybrid'"
   ]
  },
  {
   "cell_type": "code",
   "execution_count": 10,
   "id": "ec1f7c06-e8b2-4346-8631-90ffd743951d",
   "metadata": {},
   "outputs": [
    {
     "name": "stdout",
     "output_type": "stream",
     "text": [
      " * sqlite:///sql_db.db\n",
      "Done.\n"
     ]
    },
    {
     "data": {
      "text/html": [
       "<table>\n",
       "    <thead>\n",
       "        <tr>\n",
       "            <th>fuel_type</th>\n",
       "            <th>average_car_price</th>\n",
       "        </tr>\n",
       "    </thead>\n",
       "    <tbody>\n",
       "        <tr>\n",
       "            <td>None</td>\n",
       "            <td>60822.612040133776</td>\n",
       "        </tr>\n",
       "        <tr>\n",
       "            <td>Hybrid</td>\n",
       "            <td>55473.45169789227</td>\n",
       "        </tr>\n",
       "        <tr>\n",
       "            <td>Diesel</td>\n",
       "            <td>48769.587357774966</td>\n",
       "        </tr>\n",
       "        <tr>\n",
       "            <td>Plug-In Hybrid</td>\n",
       "            <td>44150.96737044146</td>\n",
       "        </tr>\n",
       "        <tr>\n",
       "            <td>Gasoline</td>\n",
       "            <td>43360.01378208991</td>\n",
       "        </tr>\n",
       "        <tr>\n",
       "            <td>–</td>\n",
       "            <td>36414.28553137004</td>\n",
       "        </tr>\n",
       "        <tr>\n",
       "            <td>E85 Flex Fuel</td>\n",
       "            <td>26729.75545689974</td>\n",
       "        </tr>\n",
       "        <tr>\n",
       "            <td>not supported</td>\n",
       "            <td>20692.733333333334</td>\n",
       "        </tr>\n",
       "    </tbody>\n",
       "</table>"
      ],
      "text/plain": [
       "[(None, 60822.612040133776),\n",
       " ('Hybrid', 55473.45169789227),\n",
       " ('Diesel', 48769.587357774966),\n",
       " ('Plug-In Hybrid', 44150.96737044146),\n",
       " ('Gasoline', 43360.01378208991),\n",
       " ('–', 36414.28553137004),\n",
       " ('E85 Flex Fuel', 26729.75545689974),\n",
       " ('not supported', 20692.733333333334)]"
      ]
     },
     "execution_count": 10,
     "metadata": {},
     "output_type": "execute_result"
    }
   ],
   "source": [
    "%%sql\n",
    "\n",
    "select fuel_type, avg(price) as average_car_price from cars \n",
    "group by fuel_type\n",
    "order by average_car_price desc;"
   ]
  },
  {
   "cell_type": "code",
   "execution_count": 11,
   "id": "784bf17a-c1de-4d98-8ab9-cfcf5da0dba9",
   "metadata": {},
   "outputs": [
    {
     "name": "stdout",
     "output_type": "stream",
     "text": [
      " * sqlite:///sql_db.db\n",
      "Done.\n"
     ]
    },
    {
     "data": {
      "text/html": [
       "<table>\n",
       "    <thead>\n",
       "        <tr>\n",
       "            <th>avg(price)</th>\n",
       "        </tr>\n",
       "    </thead>\n",
       "    <tbody>\n",
       "        <tr>\n",
       "            <td>43878.01617753921</td>\n",
       "        </tr>\n",
       "    </tbody>\n",
       "</table>"
      ],
      "text/plain": [
       "[(43878.01617753921,)]"
      ]
     },
     "execution_count": 11,
     "metadata": {},
     "output_type": "execute_result"
    }
   ],
   "source": [
    "%%sql\n",
    "-- average price\n",
    "\n",
    "select avg(price) from cars;"
   ]
  }
 ],
 "metadata": {
  "kernelspec": {
   "display_name": "Python 3 (ipykernel)",
   "language": "python",
   "name": "python3"
  },
  "language_info": {
   "codemirror_mode": {
    "name": "ipython",
    "version": 3
   },
   "file_extension": ".py",
   "mimetype": "text/x-python",
   "name": "python",
   "nbconvert_exporter": "python",
   "pygments_lexer": "ipython3",
   "version": "3.12.6"
  },
  "widgets": {
   "application/vnd.jupyter.widget-state+json": {
    "state": {},
    "version_major": 2,
    "version_minor": 0
   }
  }
 },
 "nbformat": 4,
 "nbformat_minor": 5
}
