{
 "cells": [
  {
   "cell_type": "code",
   "execution_count": 1,
   "id": "006d66f0-4f4f-4d2f-92e7-151a76bcd565",
   "metadata": {},
   "outputs": [],
   "source": [
    "import sqlite3\n",
    "import pandas as pd\n",
    "\n",
    "# Load the CSV into a DataFrame\n",
    "df = pd.read_csv('used_car_price.csv')\n",
    "\n",
    "#We will sqlite3 library and create a connection\n",
    "conn = sqlite3.connect(\"sql_db.db\")\n",
    "\n",
    "# Write the DataFrame to the SQLite database as a table\n",
    "df.to_sql('cars', conn, index=False, if_exists='replace')\n",
    "\n",
    "#Load the sql module to ipython\n",
    "%load_ext sql\n",
    "\n",
    "#Load local dataset\n",
    "%sql sqlite:///sql_db.db"
   ]
  },
  {
   "cell_type": "markdown",
   "id": "1fd6c74b-8531-42c3-8017-ff62d74c6ac9",
   "metadata": {},
   "source": [
    "# SQL Join\n",
    "- A JOIN clause is used to combine rows from two or more tables, based on a related column between them."
   ]
  },
  {
   "cell_type": "markdown",
   "id": "01703be0-8b2b-4f0f-915f-b6bcc9071b67",
   "metadata": {},
   "source": [
    "**Different Types of SQL JOINs:-** <br>\n",
    "Here are the different types of the JOINs in SQL: <br>\n",
    "\n",
    "- (INNER) JOIN: Returns records that have matching values in both tables\n",
    "- LEFT (OUTER) JOIN: Returns all records from the left table, and the matched records from the right table\n",
    "- RIGHT (OUTER) JOIN: Returns all records from the right table, and the matched records from the left table\n",
    "- FULL (OUTER) JOIN: Returns all records when there is a match in either left or right table\n",
    "\n",
    "![SQL Join Image](media/sql_join2.png)"
   ]
  },
  {
   "cell_type": "markdown",
   "id": "b52607b3-02d6-41fc-a613-1386388340aa",
   "metadata": {},
   "source": [
    "## SQL INNER JOIN\n",
    "```\n",
    "SELECT Products.ProductID, Products.ProductName, Categories.CategoryName\n",
    "FROM Products\n",
    "INNER JOIN Categories ON Products.CategoryID = Categories.CategoryID;\n",
    "```"
   ]
  },
  {
   "cell_type": "markdown",
   "id": "3a6d29ce-40d5-4298-bc55-b84e7efdfaff",
   "metadata": {},
   "source": [
    "## JOIN or INNER JOIN\n",
    "JOIN and INNER JOIN will return the same result. <br>\n",
    "INNER is the default join type for JOIN, so when you write JOIN the parser actually writes INNER JOIN.\n",
    "\n",
    "```\n",
    "SELECT Products.ProductID, Products.ProductName, Categories.CategoryName\n",
    "FROM Products\n",
    "JOIN Categories ON Products.CategoryID = Categories.CategoryID;\n",
    "```"
   ]
  },
  {
   "cell_type": "markdown",
   "id": "486be2fb-6bd6-4dd0-87d8-764bedc0a374",
   "metadata": {},
   "source": [
    "## SQL Left Join\n",
    "- The LEFT JOIN keyword returns all records from the left table (table1), and the matching records from the right table (table2). The result is 0 records from the right side, if there is no match.\n",
    "```\n",
    "SELECT column_name(s)\n",
    "FROM table1\n",
    "LEFT JOIN table2\n",
    "ON table1.column_name = table2.column_name;\n",
    "```"
   ]
  },
  {
   "cell_type": "markdown",
   "id": "68922983-0df1-4294-9742-3f33952f9d39",
   "metadata": {},
   "source": [
    "## SQL Right Join\n",
    "- The RIGHT JOIN keyword returns all records from the right table (table2), and the matching records from the left table (table1). The result is 0 records from the left side, if there is no match.\n",
    "\n",
    "```\n",
    "SELECT column_name(s)\n",
    "FROM table1\n",
    "RIGHT JOIN table2\n",
    "ON table1.column_name = table2.column_name;\n",
    "```"
   ]
  },
  {
   "cell_type": "markdown",
   "id": "f27efd27-fc11-4b93-9e09-cce8cf257695",
   "metadata": {},
   "source": [
    "- For Example:\n",
    "```\n",
    "SELECT Orders.OrderID, Employees.LastName, Employees.FirstName\n",
    "FROM Orders\n",
    "RIGHT JOIN Employees ON Orders.EmployeeID = Employees.EmployeeID\n",
    "ORDER BY Orders.OrderID;\n",
    "```"
   ]
  },
  {
   "cell_type": "markdown",
   "id": "44a1eceb-bf6e-4b03-b9ec-a08c45721588",
   "metadata": {},
   "source": [
    "## SQL FULL JOIN \n",
    "- The FULL OUTER JOIN keyword returns all records when there is a match in left (table1) or right (table2) table records.\n",
    "```\n",
    "SELECT column_name(s)\n",
    "FROM table1\n",
    "FULL OUTER JOIN table2\n",
    "ON table1.column_name = table2.column_name\n",
    "WHERE condition;\n",
    "```"
   ]
  },
  {
   "cell_type": "markdown",
   "id": "afe7be29-3842-4e99-be1e-b67b94b614af",
   "metadata": {},
   "source": [
    "- For Example:\n",
    "```\n",
    "SELECT Customers.CustomerName, Orders.OrderID\n",
    "FROM Customers\n",
    "FULL OUTER JOIN Orders ON Customers.CustomerID=Orders.CustomerID\n",
    "ORDER BY Customers.CustomerName;\n",
    "```"
   ]
  },
  {
   "cell_type": "markdown",
   "id": "a5b6929f-2fc2-4383-af05-7b7d1f9de3b3",
   "metadata": {},
   "source": [
    "## SQL Self Join\n",
    "- A self join is a regular join, but the table is joined with itself.\n",
    "\n",
    "```\n",
    "SELECT column_name(s)\n",
    "FROM table1 T1, table1 T2\n",
    "WHERE condition;\n",
    "```\n",
    "\n",
    "- For Example:\n",
    "\n",
    "```\n",
    "SELECT A.CustomerName AS CustomerName1, B.CustomerName AS CustomerName2, A.City\n",
    "FROM Customers A, Customers B\n",
    "WHERE A.CustomerID <> B.CustomerID\n",
    "AND A.City = B.City\n",
    "ORDER BY A.City;\n",
    "```"
   ]
  },
  {
   "cell_type": "markdown",
   "id": "9b6be7ed-c8aa-4a99-af15-c524be71dd50",
   "metadata": {},
   "source": [
    "# Union\n",
    "The UNION operator is used to combine the result-set of two or more SELECT statements.\n",
    "\n",
    "- Every SELECT statement within UNION must have the same number of columns\n",
    "- The columns must also have similar data types\n",
    "- The columns in every SELECT statement must also be in the same order"
   ]
  },
  {
   "cell_type": "markdown",
   "id": "2c44b881-6ea6-4cd3-ad18-ddac6073dd9b",
   "metadata": {},
   "source": [
    "```\n",
    "SELECT column_name(s) FROM table1\n",
    "UNION\n",
    "SELECT column_name(s) FROM table2;\n",
    "```"
   ]
  }
 ],
 "metadata": {
  "kernelspec": {
   "display_name": "Python 3 (ipykernel)",
   "language": "python",
   "name": "python3"
  },
  "language_info": {
   "codemirror_mode": {
    "name": "ipython",
    "version": 3
   },
   "file_extension": ".py",
   "mimetype": "text/x-python",
   "name": "python",
   "nbconvert_exporter": "python",
   "pygments_lexer": "ipython3",
   "version": "3.12.6"
  },
  "widgets": {
   "application/vnd.jupyter.widget-state+json": {
    "state": {},
    "version_major": 2,
    "version_minor": 0
   }
  }
 },
 "nbformat": 4,
 "nbformat_minor": 5
}
